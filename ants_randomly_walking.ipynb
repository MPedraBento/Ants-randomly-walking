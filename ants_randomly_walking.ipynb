{
 "cells": [
  {
   "cell_type": "markdown",
   "id": "1560dcbb",
   "metadata": {},
   "source": [
    "## Imports"
   ]
  },
  {
   "cell_type": "code",
   "execution_count": 1,
   "id": "bce3b7d3",
   "metadata": {
    "ExecuteTime": {
     "end_time": "2024-03-01T17:53:58.468955Z",
     "start_time": "2024-03-01T17:53:57.991486Z"
    }
   },
   "outputs": [],
   "source": [
    "import numpy as np\n",
    "import matplotlib.pyplot as plt\n",
    "import seaborn as sns"
   ]
  },
  {
   "cell_type": "markdown",
   "id": "0290784c",
   "metadata": {},
   "source": [
    "## Simulating the random walk"
   ]
  },
  {
   "cell_type": "markdown",
   "id": "20113597",
   "metadata": {},
   "source": [
    "### Start of the random walk"
   ]
  },
  {
   "cell_type": "code",
   "execution_count": 2,
   "id": "119379a1",
   "metadata": {
    "ExecuteTime": {
     "end_time": "2024-03-01T17:53:58.472952Z",
     "start_time": "2024-03-01T17:53:58.470179Z"
    }
   },
   "outputs": [],
   "source": [
    "def start(x, y, n_ants=5):\n",
    "    \n",
    "    \"\"\"Inputs: starting point (x,y) and the number of ants in the simulation.\n",
    "       Outputs: starting array and the number of ants.\"\"\"\n",
    "    \n",
    "    start_arr = np.repeat(np.array([[x, y]]), n_ants, axis=0)\n",
    "    \n",
    "    return start_arr, n_ants"
   ]
  },
  {
   "cell_type": "markdown",
   "id": "72efbc72",
   "metadata": {},
   "source": [
    "### Boundary functions"
   ]
  },
  {
   "cell_type": "code",
   "execution_count": 3,
   "id": "10a97258",
   "metadata": {
    "ExecuteTime": {
     "end_time": "2024-03-01T17:53:58.480997Z",
     "start_time": "2024-03-01T17:53:58.473790Z"
    }
   },
   "outputs": [],
   "source": [
    "def boundary_1(arr):\n",
    "    \n",
    "    \"\"\"Inputs: an array of shape (N, 2).\n",
    "       Outputs: True if a point is outside the boundary condition.\"\"\"\n",
    "    \n",
    "    condition = ((np.abs(arr[:, 0]) >= 2) | (np.abs(arr[:, 1]) >= 2))\n",
    "    \n",
    "    return condition"
   ]
  },
  {
   "cell_type": "code",
   "execution_count": 4,
   "id": "3a207ee5",
   "metadata": {
    "ExecuteTime": {
     "end_time": "2024-03-01T17:53:58.484283Z",
     "start_time": "2024-03-01T17:53:58.482460Z"
    }
   },
   "outputs": [],
   "source": [
    "def boundary_2(arr):\n",
    "    \n",
    "    \"\"\"Inputs: an array of shape (N, 2).\n",
    "       Outputs: True if a point is outside the boundary condition.\"\"\"\n",
    "    \n",
    "    condition = (arr[:, 0] + arr[:, 1] >= 1)\n",
    "    \n",
    "    return condition"
   ]
  },
  {
   "cell_type": "code",
   "execution_count": 5,
   "id": "fddd6aad",
   "metadata": {
    "ExecuteTime": {
     "end_time": "2024-03-01T17:53:58.487043Z",
     "start_time": "2024-03-01T17:53:58.485006Z"
    }
   },
   "outputs": [],
   "source": [
    "def boundary_3(arr):\n",
    "    \n",
    "    \"\"\"Inputs: an array of shape (N, 2).\n",
    "       Outputs: True if a point is outside the boundary condition.\"\"\"\n",
    "    \n",
    "    condition = (((arr[:, 0] - 0.25) / 3)**2 + ((arr[:, 1] - 0.25) / 4)**2 >= 1)\n",
    "    \n",
    "    return condition"
   ]
  },
  {
   "cell_type": "markdown",
   "id": "872b8bf5",
   "metadata": {},
   "source": [
    "### Random walk simulation"
   ]
  },
  {
   "cell_type": "code",
   "execution_count": 6,
   "id": "38e4cd39",
   "metadata": {
    "ExecuteTime": {
     "end_time": "2024-03-01T17:53:58.490468Z",
     "start_time": "2024-03-01T17:53:58.487732Z"
    }
   },
   "outputs": [],
   "source": [
    "def random_walk(start_arr, boundary=boundary_1):\n",
    "    \n",
    "    \"\"\"Inputs: the starting array and boundary.\n",
    "       Outputs the time that every and took to get to the boundary.\"\"\"\n",
    "    \n",
    "    poss = np.array([[-1, 0],\n",
    "                     [0, -1], \n",
    "                     [1, 0], \n",
    "                     [0, 1]])\n",
    "    \n",
    "    walk_arr, n_ants = start_arr\n",
    "    \n",
    "    times = np.zeros((walk_arr.shape[0], 1), dtype=np.int32)\n",
    "    \n",
    "    while (~np.all(np.any(np.isnan(walk_arr), axis=1))):\n",
    "                \n",
    "        choice = np.random.choice([0, 1, 2, 3], n_ants)\n",
    "        walk_arr += poss[choice]\n",
    "        \n",
    "        walk_arr = np.where(boundary(walk_arr).reshape(-1, 1), np.nan, walk_arr)\n",
    "        \n",
    "        times += 1 * (~np.any(np.isnan(walk_arr), axis=1).reshape(-1, 1))\n",
    "        \n",
    "    return times + 1"
   ]
  },
  {
   "cell_type": "markdown",
   "id": "ed582141",
   "metadata": {},
   "source": [
    "### Question 1"
   ]
  },
  {
   "cell_type": "code",
   "execution_count": 7,
   "id": "2493038a",
   "metadata": {
    "ExecuteTime": {
     "end_time": "2024-03-01T17:53:58.652531Z",
     "start_time": "2024-03-01T17:53:58.491224Z"
    }
   },
   "outputs": [],
   "source": [
    "start_walk = start(0, 0, n_ants=100000)\n",
    "times_to_plot = random_walk(start_walk, boundary=boundary_1)"
   ]
  },
  {
   "cell_type": "markdown",
   "id": "45d2c34d",
   "metadata": {},
   "source": [
    "It seems that it takes around 4.5 seconds to reach the square."
   ]
  },
  {
   "cell_type": "code",
   "execution_count": 8,
   "id": "6cd1f0c3",
   "metadata": {
    "ExecuteTime": {
     "end_time": "2024-03-01T17:53:58.659172Z",
     "start_time": "2024-03-01T17:53:58.653438Z"
    }
   },
   "outputs": [
    {
     "data": {
      "text/plain": [
       "4.4973"
      ]
     },
     "execution_count": 8,
     "metadata": {},
     "output_type": "execute_result"
    }
   ],
   "source": [
    "np.mean(times_to_plot)"
   ]
  },
  {
   "cell_type": "markdown",
   "id": "9f34e88f",
   "metadata": {},
   "source": [
    "### Question 2"
   ]
  },
  {
   "cell_type": "code",
   "execution_count": 9,
   "id": "07777ee2",
   "metadata": {
    "ExecuteTime": {
     "end_time": "2024-03-01T17:53:58.673709Z",
     "start_time": "2024-03-01T17:53:58.660484Z"
    }
   },
   "outputs": [],
   "source": [
    "start_walk = start(0, 0, n_ants=10)\n",
    "times_to_plot = random_walk(start_walk, boundary=boundary_2)"
   ]
  },
  {
   "cell_type": "markdown",
   "id": "3bbf56d3",
   "metadata": {},
   "source": [
    "After a couple of experiments with the ant number, it seems this result diverges."
   ]
  },
  {
   "cell_type": "code",
   "execution_count": 10,
   "id": "6f9b0a32",
   "metadata": {
    "ExecuteTime": {
     "end_time": "2024-03-01T17:53:58.677640Z",
     "start_time": "2024-03-01T17:53:58.675260Z"
    }
   },
   "outputs": [
    {
     "data": {
      "text/plain": [
       "36.4"
      ]
     },
     "execution_count": 10,
     "metadata": {},
     "output_type": "execute_result"
    }
   ],
   "source": [
    "np.mean(times_to_plot)"
   ]
  },
  {
   "cell_type": "markdown",
   "id": "384a3877",
   "metadata": {},
   "source": [
    "### Question 3"
   ]
  },
  {
   "cell_type": "code",
   "execution_count": 11,
   "id": "fde442b1",
   "metadata": {
    "ExecuteTime": {
     "end_time": "2024-03-01T17:53:59.160715Z",
     "start_time": "2024-03-01T17:53:58.678318Z"
    }
   },
   "outputs": [],
   "source": [
    "start_walk = start(0, 0, n_ants=100000)\n",
    "times_to_plot = random_walk(start_walk, boundary=boundary_3)"
   ]
  },
  {
   "cell_type": "markdown",
   "id": "21f717dc",
   "metadata": {
    "ExecuteTime": {
     "end_time": "2024-03-01T17:03:53.237187Z",
     "start_time": "2024-03-01T17:03:53.232611Z"
    }
   },
   "source": [
    "It seems that it takes around 14 seconds to reach the ellipse."
   ]
  },
  {
   "cell_type": "code",
   "execution_count": 12,
   "id": "10e7a1e0",
   "metadata": {
    "ExecuteTime": {
     "end_time": "2024-03-01T17:53:59.164274Z",
     "start_time": "2024-03-01T17:53:59.161722Z"
    }
   },
   "outputs": [
    {
     "data": {
      "text/plain": [
       "13.94562"
      ]
     },
     "execution_count": 12,
     "metadata": {},
     "output_type": "execute_result"
    }
   ],
   "source": [
    "np.mean(times_to_plot)"
   ]
  },
  {
   "cell_type": "markdown",
   "id": "2d780b59",
   "metadata": {},
   "source": [
    "### Plot of Q3"
   ]
  },
  {
   "cell_type": "markdown",
   "id": "e9978cf3",
   "metadata": {},
   "source": [
    "We note the curious relation between even and odd number of steps. A brute force calculation would show that there are two series to compute this result."
   ]
  },
  {
   "cell_type": "code",
   "execution_count": 13,
   "id": "9aed8229",
   "metadata": {
    "ExecuteTime": {
     "end_time": "2024-03-01T17:53:59.427283Z",
     "start_time": "2024-03-01T17:53:59.164929Z"
    }
   },
   "outputs": [
    {
     "data": {
      "image/png": "[encoded data removed]",
      "text/plain": [
       "<Figure size 640x480 with 1 Axes>"
      ]
     },
     "metadata": {},
     "output_type": "display_data"
    }
   ],
   "source": [
    "sns.histplot(times_to_plot)\n",
    "plt.xlim(0,40)\n",
    "plt.show()"
   ]
  },
  {
   "cell_type": "markdown",
   "id": "9db484de",
   "metadata": {},
   "source": [
    "## Exact answer using Markov chains"
   ]
  },
  {
   "cell_type": "code",
   "execution_count": 14,
   "id": "cd084970",
   "metadata": {
    "ExecuteTime": {
     "end_time": "2024-03-01T17:53:59.430381Z",
     "start_time": "2024-03-01T17:53:59.428317Z"
    }
   },
   "outputs": [],
   "source": [
    "def get_arr_inside_boundary(range_len=(-20, 20), boundary=boundary_3):\n",
    "    \n",
    "    \"\"\"We output the points inside the boundary.\"\"\"\n",
    "    \n",
    "    # Choose at least all points around the boundary\n",
    "    x = np.arange(*range_len)\n",
    "    y = np.arange(*range_len)\n",
    "    \n",
    "    # Total grid you chose\n",
    "    arr_total = np.dstack(np.meshgrid(x, y)).reshape(-1, 2)\n",
    "    \n",
    "    # Grid inside the boundary\n",
    "    arr_inside = arr_total[~boundary(arr_total)]\n",
    "    \n",
    "    return arr_inside"
   ]
  },
  {
   "cell_type": "code",
   "execution_count": 15,
   "id": "78cc9b26",
   "metadata": {
    "ExecuteTime": {
     "end_time": "2024-03-01T17:53:59.438296Z",
     "start_time": "2024-03-01T17:53:59.431280Z"
    }
   },
   "outputs": [],
   "source": [
    "def plot_points_boundary(arr_inside):\n",
    "    \n",
    "    \"\"\"Plotting function.\"\"\"\n",
    "    \n",
    "    # Define the movements of each point inside the boundary.\n",
    "    test_arr_1 = arr_inside + np.array([[-1, 0]])\n",
    "    test_arr_2 = arr_inside + np.array([[1, 0]])\n",
    "    test_arr_3 = arr_inside + np.array([[0, -1]])\n",
    "    test_arr_4 = arr_inside + np.array([[0, 1]])\n",
    "    \n",
    "    # We use a mask to check whether they are still inside or not.\n",
    "    mask_1 = (test_arr_1[:, None] == arr_inside).all(-1).any(1)\n",
    "    mask_2 = (test_arr_2[:, None] == arr_inside).all(-1).any(1)\n",
    "    mask_3 = (test_arr_3[:, None] == arr_inside).all(-1).any(1)\n",
    "    mask_4 = (test_arr_4[:, None] == arr_inside).all(-1).any(1)\n",
    "    \n",
    "    # We count the number of times the movement left a particular point still inside.\n",
    "    prob_count = (mask_1).astype(np.int8) + \\\n",
    "                 (mask_2).astype(np.int8) + \\\n",
    "                 (mask_3).astype(np.int8) + \\\n",
    "                 (mask_4).astype(np.int8)\n",
    "    \n",
    "    # We plot the points.\n",
    "    plt.scatter(arr_inside[prob_count == 2][:, 0], arr_inside[prob_count == 2][:, 1],\n",
    "                color='b', marker='x', label='2 transitions')\n",
    "    plt.scatter(arr_inside[prob_count == 3][:, 0], arr_inside[prob_count == 3][:, 1],\n",
    "                color='g', marker='^', label='3 transitions')\n",
    "    plt.scatter(arr_inside[prob_count == 4][:, 0], arr_inside[prob_count == 4][:, 1],\n",
    "                color='c', marker='o', label='4 transitions')\n",
    "    plt.xlim(arr_inside.min() - 1, arr_inside.max() + 1)\n",
    "    plt.ylim(arr_inside.min() - 1, arr_inside.max() + 1)\n",
    "    plt.legend()\n",
    "    plt.show()\n",
    "    \n",
    "    return"
   ]
  },
  {
   "cell_type": "code",
   "execution_count": 16,
   "id": "b9176798",
   "metadata": {
    "ExecuteTime": {
     "end_time": "2024-03-01T17:53:59.442418Z",
     "start_time": "2024-03-01T17:53:59.439064Z"
    }
   },
   "outputs": [],
   "source": [
    "def get_transition(arr_inside):\n",
    "    \n",
    "    \"\"\"We compute the transition matrix for this Markov process with absorbing states.\"\"\"\n",
    "    \n",
    "    # Define the movements of each point inside the boundary.\n",
    "    test_arr_1 = arr_inside + np.array([[-1, 0]])\n",
    "    test_arr_2 = arr_inside + np.array([[1, 0]])\n",
    "    test_arr_3 = arr_inside + np.array([[0, -1]])\n",
    "    test_arr_4 = arr_inside + np.array([[0, 1]])\n",
    "    \n",
    "    # Define inside points as a list and initialize parameters.\n",
    "    true_lst = arr_inside.tolist()\n",
    "    size_space = len(true_lst)\n",
    "    transition_matrix = np.zeros((size_space, size_space))\n",
    "    \n",
    "    # For each state after a movement, we ask the index of the final state within the list if it is still inside.\n",
    "    # We build the transition matrix from the initial and final indices.\n",
    "    # Example:\n",
    "    # (0,0) has index i and it goes (0,0) -> (1, 0). The state (1, 0) is inside. \n",
    "    # Then, we get the index j of (1,0). We populate with a 1 the transition matrix in the entry (i,j).\n",
    "    for k in range(size_space):\n",
    "        test_elem_lst_1 = test_arr_1[k].tolist()\n",
    "        test_elem_lst_2 = test_arr_2[k].tolist()\n",
    "        test_elem_lst_3 = test_arr_3[k].tolist()\n",
    "        test_elem_lst_4 = test_arr_4[k].tolist()\n",
    "        \n",
    "        if test_elem_lst_1 in true_lst:\n",
    "            transition_matrix[k, true_lst.index(test_elem_lst_1)] = 1\n",
    "        if test_elem_lst_2 in true_lst:\n",
    "            transition_matrix[k, true_lst.index(test_elem_lst_2)] = 1\n",
    "        if test_elem_lst_3 in true_lst:\n",
    "            transition_matrix[k, true_lst.index(test_elem_lst_3)] = 1\n",
    "        if test_elem_lst_4 in true_lst:\n",
    "            transition_matrix[k, true_lst.index(test_elem_lst_4)] = 1\n",
    "            \n",
    "    return transition_matrix / 4"
   ]
  },
  {
   "cell_type": "markdown",
   "id": "4103b1bf",
   "metadata": {},
   "source": [
    "### Question 1"
   ]
  },
  {
   "cell_type": "markdown",
   "id": "c880ede7",
   "metadata": {},
   "source": [
    "We get the states inside the square."
   ]
  },
  {
   "cell_type": "code",
   "execution_count": 17,
   "id": "0e5c94b3",
   "metadata": {
    "ExecuteTime": {
     "end_time": "2024-03-01T17:53:59.445105Z",
     "start_time": "2024-03-01T17:53:59.443109Z"
    }
   },
   "outputs": [],
   "source": [
    "arr_inside = get_arr_inside_boundary(boundary=boundary_1)"
   ]
  },
  {
   "cell_type": "markdown",
   "id": "faca783e",
   "metadata": {},
   "source": [
    "We plot these states."
   ]
  },
  {
   "cell_type": "code",
   "execution_count": 18,
   "id": "80ea6145",
   "metadata": {
    "ExecuteTime": {
     "end_time": "2024-03-01T17:53:59.535865Z",
     "start_time": "2024-03-01T17:53:59.445872Z"
    }
   },
   "outputs": [
    {
     "data": {
      "image/png": "[encoded data removed]",
      "text/plain": [
       "<Figure size 640x480 with 1 Axes>"
      ]
     },
     "metadata": {},
     "output_type": "display_data"
    }
   ],
   "source": [
    "plot_points_boundary(arr_inside)"
   ]
  },
  {
   "cell_type": "markdown",
   "id": "036b10cf",
   "metadata": {},
   "source": [
    "We compute the transition matrix $Q$."
   ]
  },
  {
   "cell_type": "code",
   "execution_count": 19,
   "id": "aa699a7d",
   "metadata": {
    "ExecuteTime": {
     "end_time": "2024-03-01T17:53:59.539042Z",
     "start_time": "2024-03-01T17:53:59.536689Z"
    }
   },
   "outputs": [],
   "source": [
    "Q = get_transition(arr_inside)"
   ]
  },
  {
   "cell_type": "markdown",
   "id": "7ea6d788",
   "metadata": {},
   "source": [
    "We compute $(I - Q)^{-1} \\mathbf{1}$ which gives the vector of expected steps from every state until we reach an absorbing state, i.e. the boundary."
   ]
  },
  {
   "cell_type": "code",
   "execution_count": 20,
   "id": "a556e389",
   "metadata": {
    "ExecuteTime": {
     "end_time": "2024-03-01T17:53:59.542712Z",
     "start_time": "2024-03-01T17:53:59.540540Z"
    }
   },
   "outputs": [],
   "source": [
    "expexted_steps = (np.linalg.inv(np.eye(Q.shape[0]) - Q) @ np.ones((Q.shape[0], 1)))"
   ]
  },
  {
   "cell_type": "markdown",
   "id": "2f91f73a",
   "metadata": {},
   "source": [
    "We get the index of the state $(0,0)$."
   ]
  },
  {
   "cell_type": "code",
   "execution_count": 21,
   "id": "1e7536a5",
   "metadata": {
    "ExecuteTime": {
     "end_time": "2024-03-01T17:53:59.545802Z",
     "start_time": "2024-03-01T17:53:59.543703Z"
    }
   },
   "outputs": [],
   "source": [
    "index_origin = arr_inside.tolist().index([0,0])"
   ]
  },
  {
   "cell_type": "markdown",
   "id": "4eb6dbb9",
   "metadata": {},
   "source": [
    "We compute the expected number of steps for a given boundary. We can see that for the ellipse, the expected number of steps from the origin is $\\mathbb{E}\\left[S_{(0,0)} \\, \\right] = 4.5$."
   ]
  },
  {
   "cell_type": "code",
   "execution_count": 22,
   "id": "a0267a2e",
   "metadata": {
    "ExecuteTime": {
     "end_time": "2024-03-01T17:53:59.549515Z",
     "start_time": "2024-03-01T17:53:59.546891Z"
    }
   },
   "outputs": [
    {
     "data": {
      "text/plain": [
       "array([4.5])"
      ]
     },
     "execution_count": 22,
     "metadata": {},
     "output_type": "execute_result"
    }
   ],
   "source": [
    "expexted_steps[index_origin]"
   ]
  },
  {
   "cell_type": "markdown",
   "id": "28b34bff",
   "metadata": {},
   "source": [
    "### Question 3"
   ]
  },
  {
   "cell_type": "markdown",
   "id": "a6962211",
   "metadata": {},
   "source": [
    "We get the states inside the ellipse."
   ]
  },
  {
   "cell_type": "code",
   "execution_count": 23,
   "id": "1017830d",
   "metadata": {
    "ExecuteTime": {
     "end_time": "2024-03-01T17:53:59.552832Z",
     "start_time": "2024-03-01T17:53:59.550648Z"
    }
   },
   "outputs": [],
   "source": [
    "arr_inside = get_arr_inside_boundary(boundary=boundary_3)"
   ]
  },
  {
   "cell_type": "markdown",
   "id": "7c14494d",
   "metadata": {},
   "source": [
    "We plot these states."
   ]
  },
  {
   "cell_type": "code",
   "execution_count": 24,
   "id": "5dfd2ae9",
   "metadata": {
    "ExecuteTime": {
     "end_time": "2024-03-01T17:53:59.635936Z",
     "start_time": "2024-03-01T17:53:59.553846Z"
    }
   },
   "outputs": [
    {
     "data": {
      "image/png": "[encoded data removed]",
      "text/plain": [
       "<Figure size 640x480 with 1 Axes>"
      ]
     },
     "metadata": {},
     "output_type": "display_data"
    }
   ],
   "source": [
    "plot_points_boundary(arr_inside)"
   ]
  },
  {
   "cell_type": "markdown",
   "id": "28937e0f",
   "metadata": {},
   "source": [
    "We compute the transition matrix $Q$."
   ]
  },
  {
   "cell_type": "code",
   "execution_count": 25,
   "id": "e5f5bacb",
   "metadata": {
    "ExecuteTime": {
     "end_time": "2024-03-01T17:53:59.639538Z",
     "start_time": "2024-03-01T17:53:59.637060Z"
    }
   },
   "outputs": [],
   "source": [
    "Q = get_transition(arr_inside)"
   ]
  },
  {
   "cell_type": "markdown",
   "id": "228494f7",
   "metadata": {
    "ExecuteTime": {
     "end_time": "2024-03-01T17:27:53.074599Z",
     "start_time": "2024-03-01T17:27:53.070060Z"
    }
   },
   "source": [
    "We compute $(I - Q)^{-1} \\mathbf{1}$ which gives the vector of expected steps from every state until we reach an absorbing state, i.e. the boundary."
   ]
  },
  {
   "cell_type": "code",
   "execution_count": 26,
   "id": "de337d3f",
   "metadata": {
    "ExecuteTime": {
     "end_time": "2024-03-01T17:53:59.651000Z",
     "start_time": "2024-03-01T17:53:59.640878Z"
    }
   },
   "outputs": [],
   "source": [
    "expexted_steps = (np.linalg.inv(np.eye(Q.shape[0]) - Q) @ np.ones((Q.shape[0], 1)))"
   ]
  },
  {
   "cell_type": "markdown",
   "id": "8fb4dd8c",
   "metadata": {},
   "source": [
    "We get the index of the state $(0,0)$."
   ]
  },
  {
   "cell_type": "code",
   "execution_count": 27,
   "id": "f2219cc8",
   "metadata": {
    "ExecuteTime": {
     "end_time": "2024-03-01T17:53:59.654304Z",
     "start_time": "2024-03-01T17:53:59.652027Z"
    }
   },
   "outputs": [],
   "source": [
    "index_origin = arr_inside.tolist().index([0,0])"
   ]
  },
  {
   "cell_type": "markdown",
   "id": "01422f03",
   "metadata": {},
   "source": [
    "We compute the expected number of steps for a given boundary. We can see that for the ellipse, the expected number of steps from the origin is $\\mathbb{E}\\left[S_{(0,0)} \\, \\right] \\approx 13.992$ and not $14$."
   ]
  },
  {
   "cell_type": "code",
   "execution_count": 28,
   "id": "46d52bd3",
   "metadata": {
    "ExecuteTime": {
     "end_time": "2024-03-01T17:53:59.661887Z",
     "start_time": "2024-03-01T17:53:59.658735Z"
    }
   },
   "outputs": [
    {
     "data": {
      "text/plain": [
       "array([13.99205306])"
      ]
     },
     "execution_count": 28,
     "metadata": {},
     "output_type": "execute_result"
    }
   ],
   "source": [
    "expexted_steps[index_origin]"
   ]
  },
  {
   "cell_type": "markdown",
   "id": "3add6ace",
   "metadata": {},
   "source": [
    "### What about Question 2?"
   ]
  },
  {
   "cell_type": "markdown",
   "id": "23a62803",
   "metadata": {},
   "source": [
    "Our calculation cannot be done with an unbounded space such as with the case of Q2."
   ]
  },
  {
   "cell_type": "markdown",
   "id": "81270b21",
   "metadata": {},
   "source": [
    "We first transform this problem into a 1D random walk. By using the fact that $x+y = 1$ is the boundary, we can collapse this system into a problem of the new variable $z = x + y$, and the boundary is $z = 1$."
   ]
  },
  {
   "cell_type": "markdown",
   "id": "ab1f032e",
   "metadata": {},
   "source": [
    "Then, the expected number of steps from the origin to the boundary is given by the relation $\\mathbb{E}\\left[S_{0} \\, \\right] = 1 + (1-p) \\times \\mathbb{E}\\left[S_{1} \\, \\right] + p \\times \\mathbb{E}\\left[S_{-1} \\, \\right]$, where $p$ is the probability of making a step to the left and the $1$ is a single step before it starts the chain from another state. We also note that $\\mathbb{E}\\left[S_{1} \\, \\right] = 0$ because we already reached the boundary."
   ]
  },
  {
   "cell_type": "markdown",
   "id": "c6113aed",
   "metadata": {},
   "source": [
    "Given that from $z=-1$ we neet to take twice the distance to get to the boundary, then, $\\mathbb{E}\\left[S_{-1} \\, \\right] = 2 \\mathbb{E}\\left[S_{0} \\, \\right]$."
   ]
  },
  {
   "cell_type": "markdown",
   "id": "43207d50",
   "metadata": {},
   "source": [
    "As such, we get the relation $\\mathbb{E}\\left[S_{0} \\, \\right] = \\frac{1}{1 - 2p}$, which diverges for $p = \\frac{1}{2}$. Thus, the solution is that the number of expected steps is infinite."
   ]
  }
 ],
 "metadata": {
  "kernelspec": {
   "display_name": "Python 3 (ipykernel)",
   "language": "python",
   "name": "python3"
  },
  "language_info": {
   "codemirror_mode": {
    "name": "ipython",
    "version": 3
   },
   "file_extension": ".py",
   "mimetype": "text/x-python",
   "name": "python",
   "nbconvert_exporter": "python",
   "pygments_lexer": "ipython3",
   "version": "3.10.12"
  },
  "toc": {
   "base_numbering": 1,
   "nav_menu": {},
   "number_sections": true,
   "sideBar": true,
   "skip_h1_title": false,
   "title_cell": "Table of Contents",
   "title_sidebar": "Contents",
   "toc_cell": false,
   "toc_position": {},
   "toc_section_display": true,
   "toc_window_display": false
  },
  "varInspector": {
   "cols": {
    "lenName": 16,
    "lenType": 16,
    "lenVar": 40
   },
   "kernels_config": {
    "python": {
     "delete_cmd_postfix": "",
     "delete_cmd_prefix": "del ",
     "library": "var_list.py",
     "varRefreshCmd": "print(var_dic_list())"
    },
    "r": {
     "delete_cmd_postfix": ") ",
     "delete_cmd_prefix": "rm(",
     "library": "var_list.r",
     "varRefreshCmd": "cat(var_dic_list()) "
    }
   },
   "types_to_exclude": [
    "module",
    "function",
    "builtin_function_or_method",
    "instance",
    "_Feature"
   ],
   "window_display": false
  }
 },
 "nbformat": 4,
 "nbformat_minor": 5
}
